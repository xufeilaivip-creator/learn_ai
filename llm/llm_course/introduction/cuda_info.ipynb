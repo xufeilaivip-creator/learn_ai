{
 "cells": [
  {
   "cell_type": "code",
   "execution_count": 24,
   "id": "fedc4b98",
   "metadata": {},
   "outputs": [],
   "source": [
    "import pycuda as pa\n",
    "import pycuda.driver as drv\n",
    "\n",
    "drv.init() "
   ]
  },
  {
   "cell_type": "code",
   "execution_count": 25,
   "id": "52d5a42a",
   "metadata": {},
   "outputs": [
    {
     "name": "stdout",
     "output_type": "stream",
     "text": [
      "Detected CUDA Capable device(s) 3\n"
     ]
    }
   ],
   "source": [
    "print(f\"Detected CUDA Capable device(s) {drv.Device.count()}\")"
   ]
  },
  {
   "cell_type": "code",
   "execution_count": 26,
   "id": "4c078231",
   "metadata": {},
   "outputs": [
    {
     "name": "stdout",
     "output_type": "stream",
     "text": [
      "Device 0: NVIDIA A10\n",
      "\t Compute Capability: 8.6\n",
      "\t Total Memory: 22592 megabytes\n",
      "Device 1: NVIDIA A10\n",
      "\t Compute Capability: 8.6\n",
      "\t Total Memory: 22592 megabytes\n",
      "Device 2: NVIDIA A10\n",
      "\t Compute Capability: 8.6\n",
      "\t Total Memory: 22592 megabytes\n"
     ]
    }
   ],
   "source": [
    "for i in range(drv.Device.count()):\n",
    "    gpu_device = drv.Device(i)\n",
    "    print(f\"Device {i}: {gpu_device.name()}\")\n",
    "    compute_capability = float(\"%d.%d\" % gpu_device.compute_capability())\n",
    "    print(f\"\\t Compute Capability: {compute_capability}\")\n",
    "    print(f\"\\t Total Memory: {gpu_device.total_memory() // (1024 ** 2)} megabytes\")"
   ]
  },
  {
   "cell_type": "code",
   "execution_count": 27,
   "id": "0121cd54",
   "metadata": {},
   "outputs": [],
   "source": [
    "gpu_attrs = gpu_device.get_attributes()"
   ]
  },
  {
   "cell_type": "code",
   "execution_count": 28,
   "id": "def413c8",
   "metadata": {},
   "outputs": [
    {
     "data": {
      "text/plain": [
       "72"
      ]
     },
     "execution_count": 28,
     "metadata": {},
     "output_type": "execute_result"
    }
   ],
   "source": [
    "gpu_device.get_attribute(pa._driver.device_attribute.MULTIPROCESSOR_COUNT)"
   ]
  },
  {
   "cell_type": "code",
   "execution_count": 29,
   "id": "1498310c",
   "metadata": {},
   "outputs": [
    {
     "name": "stdout",
     "output_type": "stream",
     "text": [
      "GPU name : NVIDIA A10\n",
      "GPU memory :  22592.0625\n",
      "ASYNC_ENGINE_COUNT 2\n",
      "CAN_MAP_HOST_MEMORY 1\n",
      "CAN_USE_HOST_POINTER_FOR_REGISTERED_MEM 1\n",
      "CLOCK_RATE 1695000\n",
      "COMPUTE_CAPABILITY_MAJOR 8\n",
      "COMPUTE_CAPABILITY_MINOR 6\n",
      "COMPUTE_MODE DEFAULT\n",
      "COMPUTE_PREEMPTION_SUPPORTED 1\n",
      "CONCURRENT_KERNELS 1\n",
      "CONCURRENT_MANAGED_ACCESS 1\n",
      "DIRECT_MANAGED_MEM_ACCESS_FROM_HOST 0\n",
      "ECC_ENABLED 1\n",
      "GENERIC_COMPRESSION_SUPPORTED 1\n",
      "GLOBAL_L1_CACHE_SUPPORTED 1\n",
      "GLOBAL_MEMORY_BUS_WIDTH 384\n",
      "GPU_OVERLAP 1\n",
      "HANDLE_TYPE_POSIX_FILE_DESCRIPTOR_SUPPORTED 1\n",
      "HANDLE_TYPE_WIN32_HANDLE_SUPPORTED 0\n",
      "HANDLE_TYPE_WIN32_KMT_HANDLE_SUPPORTED 0\n",
      "HOST_NATIVE_ATOMIC_SUPPORTED 0\n",
      "INTEGRATED 0\n",
      "KERNEL_EXEC_TIMEOUT 0\n",
      "L2_CACHE_SIZE 6291456\n",
      "LOCAL_L1_CACHE_SUPPORTED 1\n",
      "MANAGED_MEMORY 1\n",
      "MAXIMUM_SURFACE1D_LAYERED_LAYERS 2048\n",
      "MAXIMUM_SURFACE1D_LAYERED_WIDTH 32768\n",
      "MAXIMUM_SURFACE1D_WIDTH 32768\n",
      "MAXIMUM_SURFACE2D_HEIGHT 65536\n",
      "MAXIMUM_SURFACE2D_LAYERED_HEIGHT 32768\n",
      "MAXIMUM_SURFACE2D_LAYERED_LAYERS 2048\n",
      "MAXIMUM_SURFACE2D_LAYERED_WIDTH 32768\n",
      "MAXIMUM_SURFACE2D_WIDTH 131072\n",
      "MAXIMUM_SURFACE3D_DEPTH 16384\n",
      "MAXIMUM_SURFACE3D_HEIGHT 16384\n",
      "MAXIMUM_SURFACE3D_WIDTH 16384\n",
      "MAXIMUM_SURFACECUBEMAP_LAYERED_LAYERS 2046\n",
      "MAXIMUM_SURFACECUBEMAP_LAYERED_WIDTH 32768\n",
      "MAXIMUM_SURFACECUBEMAP_WIDTH 32768\n",
      "MAXIMUM_TEXTURE1D_LAYERED_LAYERS 2048\n",
      "MAXIMUM_TEXTURE1D_LAYERED_WIDTH 32768\n",
      "MAXIMUM_TEXTURE1D_LINEAR_WIDTH 268435456\n",
      "MAXIMUM_TEXTURE1D_MIPMAPPED_WIDTH 32768\n",
      "MAXIMUM_TEXTURE1D_WIDTH 131072\n",
      "MAXIMUM_TEXTURE2D_ARRAY_HEIGHT 32768\n",
      "MAXIMUM_TEXTURE2D_ARRAY_NUMSLICES 2048\n",
      "MAXIMUM_TEXTURE2D_ARRAY_WIDTH 32768\n",
      "MAXIMUM_TEXTURE2D_GATHER_HEIGHT 32768\n",
      "MAXIMUM_TEXTURE2D_GATHER_WIDTH 32768\n",
      "MAXIMUM_TEXTURE2D_HEIGHT 65536\n",
      "MAXIMUM_TEXTURE2D_LINEAR_HEIGHT 65000\n",
      "MAXIMUM_TEXTURE2D_LINEAR_PITCH 2097120\n",
      "MAXIMUM_TEXTURE2D_LINEAR_WIDTH 131072\n",
      "MAXIMUM_TEXTURE2D_MIPMAPPED_HEIGHT 32768\n",
      "MAXIMUM_TEXTURE2D_MIPMAPPED_WIDTH 32768\n",
      "MAXIMUM_TEXTURE2D_WIDTH 131072\n",
      "MAXIMUM_TEXTURE3D_DEPTH 16384\n",
      "MAXIMUM_TEXTURE3D_DEPTH_ALTERNATE 32768\n",
      "MAXIMUM_TEXTURE3D_HEIGHT 16384\n",
      "MAXIMUM_TEXTURE3D_HEIGHT_ALTERNATE 8192\n",
      "MAXIMUM_TEXTURE3D_WIDTH 16384\n",
      "MAXIMUM_TEXTURE3D_WIDTH_ALTERNATE 8192\n",
      "MAXIMUM_TEXTURECUBEMAP_LAYERED_LAYERS 2046\n",
      "MAXIMUM_TEXTURECUBEMAP_LAYERED_WIDTH 32768\n",
      "MAXIMUM_TEXTURECUBEMAP_WIDTH 32768\n",
      "MAX_BLOCKS_PER_MULTIPROCESSOR 16\n",
      "MAX_BLOCK_DIM_X 1024\n",
      "MAX_BLOCK_DIM_Y 1024\n",
      "MAX_BLOCK_DIM_Z 64\n",
      "MAX_GRID_DIM_X 2147483647\n",
      "MAX_GRID_DIM_Y 65535\n",
      "MAX_GRID_DIM_Z 65535\n",
      "MAX_PERSISTING_L2_CACHE_SIZE 4718592\n",
      "MAX_PITCH 2147483647\n",
      "MAX_REGISTERS_PER_BLOCK 65536\n",
      "MAX_REGISTERS_PER_MULTIPROCESSOR 65536\n",
      "MAX_SHARED_MEMORY_PER_BLOCK 49152\n",
      "MAX_SHARED_MEMORY_PER_BLOCK_OPTIN 101376\n",
      "MAX_SHARED_MEMORY_PER_MULTIPROCESSOR 102400\n",
      "MAX_THREADS_PER_BLOCK 1024\n",
      "MAX_THREADS_PER_MULTIPROCESSOR 1536\n",
      "MEMORY_CLOCK_RATE 6251000\n",
      "MEMORY_POOLS_SUPPORTED 1\n",
      "MULTIPROCESSOR_COUNT 72\n",
      "MULTI_GPU_BOARD 0\n",
      "MULTI_GPU_BOARD_GROUP_ID 0\n",
      "PAGEABLE_MEMORY_ACCESS 0\n",
      "PAGEABLE_MEMORY_ACCESS_USES_HOST_PAGE_TABLES 0\n",
      "PCI_BUS_ID 4\n",
      "PCI_DEVICE_ID 0\n",
      "PCI_DOMAIN_ID 0\n",
      "READ_ONLY_HOST_REGISTER_SUPPORTED 1\n",
      "RESERVED_SHARED_MEMORY_PER_BLOCK 1024\n",
      "SINGLE_TO_DOUBLE_PRECISION_PERF_RATIO 32\n",
      "STREAM_PRIORITIES_SUPPORTED 1\n",
      "SURFACE_ALIGNMENT 512\n",
      "TCC_DRIVER 0\n",
      "TEXTURE_ALIGNMENT 512\n",
      "TEXTURE_PITCH_ALIGNMENT 32\n",
      "TOTAL_CONSTANT_MEMORY 65536\n",
      "UNIFIED_ADDRESSING 1\n",
      "WARP_SIZE 32\n"
     ]
    }
   ],
   "source": [
    "gpu = drv.Device(0) # 4\n",
    "print(\"GPU name :\",gpu.name()) # 5\n",
    "print(\"GPU memory : \",gpu.total_memory()/1024**2) # 6\n",
    "gpu_attributes = gpu.get_attributes().items() # 6\n",
    "for k,v in gpu_attributes:\n",
    "    print(k,v)"
   ]
  },
  {
   "cell_type": "code",
   "execution_count": null,
   "id": "392ebfa4",
   "metadata": {},
   "outputs": [],
   "source": []
  }
 ],
 "metadata": {
  "kernelspec": {
   "display_name": "Python 3 (ipykernel)",
   "language": "python",
   "name": "python3"
  },
  "language_info": {
   "codemirror_mode": {
    "name": "ipython",
    "version": 3
   },
   "file_extension": ".py",
   "mimetype": "text/x-python",
   "name": "python",
   "nbconvert_exporter": "python",
   "pygments_lexer": "ipython3",
   "version": "3.8.16"
  },
  "toc": {
   "base_numbering": 1,
   "nav_menu": {},
   "number_sections": true,
   "sideBar": true,
   "skip_h1_title": false,
   "title_cell": "Table of Contents",
   "title_sidebar": "Contents",
   "toc_cell": false,
   "toc_position": {},
   "toc_section_display": true,
   "toc_window_display": false
  },
  "varInspector": {
   "cols": {
    "lenName": 16,
    "lenType": 16,
    "lenVar": 40
   },
   "kernels_config": {
    "python": {
     "delete_cmd_postfix": "",
     "delete_cmd_prefix": "del ",
     "library": "var_list.py",
     "varRefreshCmd": "print(var_dic_list())"
    },
    "r": {
     "delete_cmd_postfix": ") ",
     "delete_cmd_prefix": "rm(",
     "library": "var_list.r",
     "varRefreshCmd": "cat(var_dic_list()) "
    }
   },
   "types_to_exclude": [
    "module",
    "function",
    "builtin_function_or_method",
    "instance",
    "_Feature"
   ],
   "window_display": false
  }
 },
 "nbformat": 4,
 "nbformat_minor": 5
}
