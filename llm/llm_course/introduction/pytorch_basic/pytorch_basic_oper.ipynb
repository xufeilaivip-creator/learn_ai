{
 "cells": [
  {
   "cell_type": "code",
   "execution_count": 2,
   "id": "504463bb-880d-4e2e-9110-a6bd0d4beb4d",
   "metadata": {},
   "outputs": [
    {
     "data": {
      "text/plain": [
       "'2.5.1'"
      ]
     },
     "execution_count": 2,
     "metadata": {},
     "output_type": "execute_result"
    }
   ],
   "source": [
    "import torch\n",
    "\n",
    "torch.__version__"
   ]
  },
  {
   "cell_type": "markdown",
   "id": "5c00d9fc-cd34-4f4a-9575-efcf2c6e85fc",
   "metadata": {},
   "source": [
    "## 创建Tensor"
   ]
  },
  {
   "cell_type": "code",
   "execution_count": 2,
   "id": "0b11e0e9-5491-481e-857e-2b6a99f9d34c",
   "metadata": {},
   "outputs": [
    {
     "data": {
      "text/plain": [
       "tensor([[7, 6, 8],\n",
       "        [5, 1, 3]], dtype=torch.int8)"
      ]
     },
     "execution_count": 2,
     "metadata": {},
     "output_type": "execute_result"
    }
   ],
   "source": [
    "# 随机int\n",
    "torch.manual_seed(42)\n",
    "a = torch.randint(1, 10, (2, 3), dtype=torch.int8)\n",
    "a"
   ]
  },
  {
   "cell_type": "code",
   "execution_count": 133,
   "id": "54c25999-34fa-4cf8-8e87-548c8c0d3633",
   "metadata": {},
   "outputs": [
    {
     "data": {
      "text/plain": [
       "tensor([[0.5498, 0.7124, 0.4199],\n",
       "        [0.6318, 0.5518, 0.5347]], dtype=torch.float16)"
      ]
     },
     "execution_count": 133,
     "metadata": {},
     "output_type": "execute_result"
    }
   ],
   "source": [
    "# 随机0-1均匀分布\n",
    "torch.manual_seed(42)\n",
    "b = torch.rand((2, 3), dtype=torch.float16)\n",
    "b"
   ]
  },
  {
   "cell_type": "code",
   "execution_count": 134,
   "id": "5ad6065b-64f0-40ff-9ed1-158c33fcb71c",
   "metadata": {},
   "outputs": [
    {
     "data": {
      "text/plain": [
       "array([[0.55  , 0.7124, 0.42  ],\n",
       "       [0.632 , 0.552 , 0.5347]], dtype=float16)"
      ]
     },
     "execution_count": 134,
     "metadata": {},
     "output_type": "execute_result"
    }
   ],
   "source": [
    "b.numpy()"
   ]
  },
  {
   "cell_type": "code",
   "execution_count": 135,
   "id": "61a2aa30-0ca4-42e6-a382-156590e4c012",
   "metadata": {},
   "outputs": [
    {
     "data": {
      "text/plain": [
       "tensor(1, dtype=torch.int16)"
      ]
     },
     "execution_count": 135,
     "metadata": {},
     "output_type": "execute_result"
    }
   ],
   "source": [
    "c = torch.tensor(1, dtype=torch.int16)\n",
    "c"
   ]
  },
  {
   "cell_type": "code",
   "execution_count": 136,
   "id": "ac24b85f-b1f0-40b9-88a3-078b0bce103f",
   "metadata": {},
   "outputs": [
    {
     "data": {
      "text/plain": [
       "array(1, dtype=int16)"
      ]
     },
     "execution_count": 136,
     "metadata": {},
     "output_type": "execute_result"
    }
   ],
   "source": [
    "c.numpy()"
   ]
  },
  {
   "cell_type": "code",
   "execution_count": 137,
   "id": "1f1dca8c-f67a-4486-8d95-5c775901c754",
   "metadata": {},
   "outputs": [
    {
     "data": {
      "text/plain": [
       "tensor(1.)"
      ]
     },
     "execution_count": 137,
     "metadata": {},
     "output_type": "execute_result"
    }
   ],
   "source": [
    "d = torch.tensor(1.0, dtype=torch.float32)\n",
    "d"
   ]
  },
  {
   "cell_type": "code",
   "execution_count": 138,
   "id": "4f3d0a99-6859-4e50-87ab-434b7d7ce1f4",
   "metadata": {},
   "outputs": [
    {
     "data": {
      "text/plain": [
       "1.0"
      ]
     },
     "execution_count": 138,
     "metadata": {},
     "output_type": "execute_result"
    }
   ],
   "source": [
    "d.item()"
   ]
  },
  {
   "cell_type": "markdown",
   "id": "501996e8-a39c-4951-bd34-6f3b1817278e",
   "metadata": {},
   "source": [
    "## 基本操作"
   ]
  },
  {
   "cell_type": "markdown",
   "id": "7f842281-a2ea-44a9-8bc0-6ae9b0c12b87",
   "metadata": {},
   "source": [
    "### 数学运算"
   ]
  },
  {
   "cell_type": "markdown",
   "id": "72ceac7c-628d-41fd-a5f6-6a90a12bd328",
   "metadata": {},
   "source": [
    "#### 代数运算"
   ]
  },
  {
   "cell_type": "code",
   "execution_count": 139,
   "id": "51f8a5b0-44d0-4b0f-9d1f-0fa3a41948b8",
   "metadata": {},
   "outputs": [
    {
     "data": {
      "text/plain": [
       "tensor([[14, 12, 16],\n",
       "        [10,  2,  6]], dtype=torch.int8)"
      ]
     },
     "execution_count": 139,
     "metadata": {},
     "output_type": "execute_result"
    }
   ],
   "source": [
    "a + a"
   ]
  },
  {
   "cell_type": "code",
   "execution_count": 140,
   "id": "092503c8-ee80-48fe-a955-935554e8bf37",
   "metadata": {},
   "outputs": [
    {
     "data": {
      "text/plain": [
       "tensor([[0.5498, 0.7124, 0.4199],\n",
       "        [0.6318, 0.5518, 0.5347]], dtype=torch.float16)"
      ]
     },
     "execution_count": 140,
     "metadata": {},
     "output_type": "execute_result"
    }
   ],
   "source": [
    "# 广播\n",
    "c * b"
   ]
  },
  {
   "cell_type": "code",
   "execution_count": 141,
   "id": "513e7c76-5827-4d57-a193-685018df6d39",
   "metadata": {},
   "outputs": [
    {
     "data": {
      "text/plain": [
       "tensor([[0.5498, 0.7124, 0.4199],\n",
       "        [0.6318, 0.5518, 0.5347]], dtype=torch.float16)"
      ]
     },
     "execution_count": 141,
     "metadata": {},
     "output_type": "execute_result"
    }
   ],
   "source": [
    "# 广播\n",
    "b * 1"
   ]
  },
  {
   "cell_type": "code",
   "execution_count": 142,
   "id": "7badbd43-f459-4f5b-805f-5ca33792bd34",
   "metadata": {},
   "outputs": [
    {
     "data": {
      "text/plain": [
       "tensor([[7, 6, 8],\n",
       "        [5, 1, 3]], dtype=torch.int8)"
      ]
     },
     "execution_count": 142,
     "metadata": {},
     "output_type": "execute_result"
    }
   ],
   "source": [
    "torch.manual_seed(42)\n",
    "a = torch.randint(1, 10, (2, 3), dtype=torch.int8)\n",
    "a"
   ]
  },
  {
   "cell_type": "code",
   "execution_count": 143,
   "id": "24633387-c2f2-4b18-a4b9-59866f3fd760",
   "metadata": {},
   "outputs": [
    {
     "data": {
      "text/plain": [
       "tensor([[49, 36, 64],\n",
       "        [25,  1,  9]], dtype=torch.int8)"
      ]
     },
     "execution_count": 143,
     "metadata": {},
     "output_type": "execute_result"
    }
   ],
   "source": [
    "a ** 2"
   ]
  },
  {
   "cell_type": "code",
   "execution_count": 144,
   "id": "1a3119d2-17ab-4fb3-bc7a-e0468856954f",
   "metadata": {},
   "outputs": [
    {
     "data": {
      "text/plain": [
       "tensor([[2.9141, 3.5840, 2.3945],\n",
       "        [2.7637, 1.0000, 1.7988]], dtype=torch.float16)"
      ]
     },
     "execution_count": 144,
     "metadata": {},
     "output_type": "execute_result"
    }
   ],
   "source": [
    "a ** b"
   ]
  },
  {
   "cell_type": "code",
   "execution_count": 145,
   "id": "aac78964-c20a-4920-9bdf-c8e1d3f0143e",
   "metadata": {},
   "outputs": [
    {
     "data": {
      "text/plain": [
       "2.914975456235201"
      ]
     },
     "execution_count": 145,
     "metadata": {},
     "output_type": "execute_result"
    }
   ],
   "source": [
    "7 ** 0.5498"
   ]
  },
  {
   "cell_type": "code",
   "execution_count": 57,
   "id": "95cf05b9-f4ae-4cf7-9144-018b0b785e18",
   "metadata": {},
   "outputs": [
    {
     "data": {
      "text/plain": [
       "tensor([[1.0966e+03, 4.0343e+02, 2.9810e+03],\n",
       "        [1.4841e+02, 2.7183e+00, 2.0086e+01]])"
      ]
     },
     "execution_count": 57,
     "metadata": {},
     "output_type": "execute_result"
    }
   ],
   "source": [
    "a.exp()"
   ]
  },
  {
   "cell_type": "code",
   "execution_count": 64,
   "id": "256d328b-308d-4ccb-bbf4-8c4fcad56a61",
   "metadata": {},
   "outputs": [
    {
     "data": {
      "text/plain": [
       "tensor([[1.9459, 1.7918, 2.0794],\n",
       "        [1.6094, 0.0000, 1.0986]])"
      ]
     },
     "execution_count": 64,
     "metadata": {},
     "output_type": "execute_result"
    }
   ],
   "source": [
    "a.log()"
   ]
  },
  {
   "cell_type": "code",
   "execution_count": 65,
   "id": "e2e26e34-28fc-4b05-bc93-546fd48da81e",
   "metadata": {},
   "outputs": [
    {
     "data": {
      "text/plain": [
       "tensor([[7.0000, 6.0000, 8.0000],\n",
       "        [5.0000, 1.0000, 3.0000]])"
      ]
     },
     "execution_count": 65,
     "metadata": {},
     "output_type": "execute_result"
    }
   ],
   "source": [
    "a.exp().log()"
   ]
  },
  {
   "cell_type": "markdown",
   "id": "b977eed8-9412-4be1-8a1a-259de1ec45b1",
   "metadata": {},
   "source": [
    "#### 向量运算"
   ]
  },
  {
   "cell_type": "code",
   "execution_count": 17,
   "id": "3642ceb1-befd-499d-a860-ced122834daf",
   "metadata": {},
   "outputs": [
    {
     "data": {
      "text/plain": [
       "(tensor([1, 2, 3], dtype=torch.int16), tensor([4, 5, 6], dtype=torch.int16))"
      ]
     },
     "execution_count": 17,
     "metadata": {},
     "output_type": "execute_result"
    }
   ],
   "source": [
    "a = torch.tensor([1,2,3], dtype=torch.int16)\n",
    "b = torch.arange(4, 7, dtype=torch.int16)\n",
    "a, b"
   ]
  },
  {
   "cell_type": "code",
   "execution_count": 18,
   "id": "c44c80f4-9a6f-403c-8d71-1955673b0eaf",
   "metadata": {},
   "outputs": [
    {
     "data": {
      "text/plain": [
       "tensor([ 4, 10, 18], dtype=torch.int16)"
      ]
     },
     "execution_count": 18,
     "metadata": {},
     "output_type": "execute_result"
    }
   ],
   "source": [
    "a * b"
   ]
  },
  {
   "cell_type": "code",
   "execution_count": 19,
   "id": "f3946e30-c821-4075-92eb-d972dcb7e36c",
   "metadata": {},
   "outputs": [
    {
     "data": {
      "text/plain": [
       "tensor(32, dtype=torch.int16)"
      ]
     },
     "execution_count": 19,
     "metadata": {},
     "output_type": "execute_result"
    }
   ],
   "source": [
    "# 点积、内积\n",
    "a.dot(b)"
   ]
  },
  {
   "cell_type": "code",
   "execution_count": 20,
   "id": "25a8547c-9535-4a88-93b0-6d2ba6ea2741",
   "metadata": {},
   "outputs": [
    {
     "data": {
      "text/plain": [
       "tensor([[ 4,  5,  6],\n",
       "        [ 8, 10, 12],\n",
       "        [12, 15, 18]], dtype=torch.int16)"
      ]
     },
     "execution_count": 20,
     "metadata": {},
     "output_type": "execute_result"
    }
   ],
   "source": [
    "# 外积\n",
    "a.outer(b)"
   ]
  },
  {
   "cell_type": "markdown",
   "id": "dbadbb9e-a589-4de9-a5ee-2c34844babcb",
   "metadata": {},
   "source": [
    "#### 矩阵运算"
   ]
  },
  {
   "cell_type": "code",
   "execution_count": 21,
   "id": "46d84ac0-4cb0-4232-8eda-bdf3530adfc6",
   "metadata": {},
   "outputs": [
    {
     "data": {
      "text/plain": [
       "(tensor([[7, 6, 8],\n",
       "         [5, 1, 3]], dtype=torch.int32),\n",
       " tensor([[8, 6],\n",
       "         [5, 3],\n",
       "         [5, 5]], dtype=torch.int32))"
      ]
     },
     "execution_count": 21,
     "metadata": {},
     "output_type": "execute_result"
    }
   ],
   "source": [
    "# 随机int\n",
    "torch.manual_seed(42)\n",
    "a = torch.randint(1, 10, (2, 3), dtype=torch.int32)\n",
    "b = torch.randint(1, 10, (3, 2), dtype=torch.int32)\n",
    "a, b"
   ]
  },
  {
   "cell_type": "code",
   "execution_count": 22,
   "id": "a8f1b261-099f-40d0-9afd-b09919e36c51",
   "metadata": {},
   "outputs": [
    {
     "data": {
      "text/plain": [
       "tensor([[126, 100],\n",
       "        [ 60,  48]], dtype=torch.int32)"
      ]
     },
     "execution_count": 22,
     "metadata": {},
     "output_type": "execute_result"
    }
   ],
   "source": [
    "# 矩阵乘法\n",
    "a @ b"
   ]
  },
  {
   "cell_type": "code",
   "execution_count": 23,
   "id": "cd8bf2cb-65c8-45dc-ab0d-f93e5d3fffd9",
   "metadata": {},
   "outputs": [
    {
     "data": {
      "text/plain": [
       "tensor([[7, 5],\n",
       "        [6, 1],\n",
       "        [8, 3]], dtype=torch.int32)"
      ]
     },
     "execution_count": 23,
     "metadata": {},
     "output_type": "execute_result"
    }
   ],
   "source": [
    "# 转置\n",
    "a.T"
   ]
  },
  {
   "cell_type": "code",
   "execution_count": 27,
   "id": "d23f3991-9c81-465e-b858-5d9751d14935",
   "metadata": {},
   "outputs": [
    {
     "data": {
      "text/plain": [
       "tensor([[7, 5],\n",
       "        [6, 1],\n",
       "        [8, 3]], dtype=torch.int32)"
      ]
     },
     "execution_count": 27,
     "metadata": {},
     "output_type": "execute_result"
    }
   ],
   "source": [
    "a.t()"
   ]
  },
  {
   "cell_type": "code",
   "execution_count": 38,
   "id": "a785323d-7433-463a-9720-f75fc61efd93",
   "metadata": {},
   "outputs": [
    {
     "data": {
      "text/plain": [
       "tensor([[0.8823, 0.9150, 0.3829],\n",
       "        [0.9593, 0.3904, 0.6009],\n",
       "        [0.2566, 0.7936, 0.9408]])"
      ]
     },
     "execution_count": 38,
     "metadata": {},
     "output_type": "execute_result"
    }
   ],
   "source": [
    "# 随机int\n",
    "torch.manual_seed(42)\n",
    "c = torch.rand( (3, 3))\n",
    "c"
   ]
  },
  {
   "cell_type": "code",
   "execution_count": 39,
   "id": "43c963f0-3cda-4a9d-8f2f-2d70cde81c0e",
   "metadata": {},
   "outputs": [
    {
     "data": {
      "text/plain": [
       "tensor([[ 0.2074,  1.0543, -0.7579],\n",
       "        [ 1.4166, -1.3853,  0.3083],\n",
       "        [-1.2516,  0.8811,  1.0095]])"
      ]
     },
     "execution_count": 39,
     "metadata": {},
     "output_type": "execute_result"
    }
   ],
   "source": [
    "torch.inverse(c)"
   ]
  },
  {
   "cell_type": "code",
   "execution_count": 40,
   "id": "437584a6-5c68-4a02-b25a-006ed652722f",
   "metadata": {},
   "outputs": [
    {
     "data": {
      "text/plain": [
       "tensor([[ 1.0000e+00, -1.4607e-08, -6.7945e-08],\n",
       "        [-1.2975e-08,  1.0000e+00,  3.1702e-09],\n",
       "        [ 2.2241e-08, -1.0358e-07,  1.0000e+00]])"
      ]
     },
     "execution_count": 40,
     "metadata": {},
     "output_type": "execute_result"
    }
   ],
   "source": [
    "torch.inverse(c) @ c"
   ]
  },
  {
   "cell_type": "code",
   "execution_count": 43,
   "id": "ec6bddb4-7391-444a-8d0d-406857e905c2",
   "metadata": {},
   "outputs": [],
   "source": [
    "eigvals, eigvecs = torch.linalg.eig(c)"
   ]
  },
  {
   "cell_type": "code",
   "execution_count": 44,
   "id": "8e16e680-c6fe-4eed-81c9-c8df53fc829f",
   "metadata": {},
   "outputs": [
    {
     "data": {
      "text/plain": [
       "tensor([ 2.0435+0.j,  0.6005+0.j, -0.4305+0.j])"
      ]
     },
     "execution_count": 44,
     "metadata": {},
     "output_type": "execute_result"
    }
   ],
   "source": [
    "eigvals"
   ]
  },
  {
   "cell_type": "code",
   "execution_count": 45,
   "id": "39c4ca37-37b3-4518-9315-f334f35c0272",
   "metadata": {},
   "outputs": [
    {
     "data": {
      "text/plain": [
       "tensor([[-0.6218+0.j, -0.5497+0.j,  0.4506+0.j],\n",
       "        [-0.5599+0.j, -0.1727+0.j, -0.8066+0.j],\n",
       "        [-0.5476+0.j,  0.8173+0.j,  0.3825+0.j]])"
      ]
     },
     "execution_count": 45,
     "metadata": {},
     "output_type": "execute_result"
    }
   ],
   "source": [
    "eigvecs"
   ]
  },
  {
   "cell_type": "code",
   "execution_count": 58,
   "id": "cef190ae-24af-4bf0-9731-e85d56d171ca",
   "metadata": {},
   "outputs": [
    {
     "data": {
      "text/plain": [
       "tensor([[0.8823+0.j, 0.9150+0.j, 0.3829+0.j],\n",
       "        [0.9593+0.j, 0.3904+0.j, 0.6009+0.j],\n",
       "        [0.2566+0.j, 0.7936+0.j, 0.9408+0.j]])"
      ]
     },
     "execution_count": 58,
     "metadata": {},
     "output_type": "execute_result"
    }
   ],
   "source": [
    "# A=VDV^-1\n",
    "eigvecs @ torch.diag_embed(eigvals) @ torch.inverse(eigvecs)"
   ]
  },
  {
   "cell_type": "markdown",
   "id": "148414d7-d8bd-4c7e-9b31-567bdcbd3967",
   "metadata": {},
   "source": [
    "#### 张量运算"
   ]
  },
  {
   "cell_type": "code",
   "execution_count": 3,
   "id": "fc784f05-8590-4545-99f4-6fc8c987e59c",
   "metadata": {},
   "outputs": [],
   "source": [
    "# 随机int\n",
    "torch.manual_seed(42)\n",
    "a = torch.randint(1, 10, (2, 3, 4, 5), dtype=torch.int32)\n",
    "b = torch.randint(1, 10, (2, 3, 5, 6), dtype=torch.int32)"
   ]
  },
  {
   "cell_type": "code",
   "execution_count": 4,
   "id": "bb354cdc-9bed-48a6-acac-63f7676807ed",
   "metadata": {},
   "outputs": [
    {
     "data": {
      "text/plain": [
       "tensor([[[[7, 6, 8, 5, 1],\n",
       "          [3, 8, 6, 5, 3],\n",
       "          [5, 5, 9, 1, 1],\n",
       "          [5, 3, 5, 4, 5]],\n",
       "\n",
       "         [[5, 9, 2, 6, 9],\n",
       "          [5, 3, 1, 2, 2],\n",
       "          [4, 4, 8, 8, 9],\n",
       "          [8, 3, 6, 2, 4]],\n",
       "\n",
       "         [[3, 4, 2, 4, 4],\n",
       "          [9, 6, 5, 1, 3],\n",
       "          [4, 1, 2, 1, 8],\n",
       "          [5, 2, 6, 6, 4]]],\n",
       "\n",
       "\n",
       "        [[[3, 4, 3, 8, 1],\n",
       "          [6, 7, 2, 8, 8],\n",
       "          [9, 1, 8, 8, 8],\n",
       "          [3, 4, 2, 9, 6]],\n",
       "\n",
       "         [[7, 5, 3, 4, 5],\n",
       "          [3, 8, 1, 3, 2],\n",
       "          [5, 3, 4, 7, 8],\n",
       "          [3, 8, 8, 6, 9]],\n",
       "\n",
       "         [[8, 4, 1, 6, 5],\n",
       "          [7, 1, 2, 8, 4],\n",
       "          [7, 1, 7, 1, 6],\n",
       "          [3, 3, 8, 1, 1]]]], dtype=torch.int32)"
      ]
     },
     "execution_count": 4,
     "metadata": {},
     "output_type": "execute_result"
    }
   ],
   "source": [
    "a"
   ]
  },
  {
   "cell_type": "code",
   "execution_count": 114,
   "id": "6713e5aa-636e-40e0-a77e-de72f8f4b242",
   "metadata": {},
   "outputs": [
    {
     "data": {
      "text/plain": [
       "torch.Size([2, 3, 4, 6])"
      ]
     },
     "execution_count": 114,
     "metadata": {},
     "output_type": "execute_result"
    }
   ],
   "source": [
    "(a @ b).shape"
   ]
  },
  {
   "cell_type": "code",
   "execution_count": 115,
   "id": "0ecb236a-1df6-4cf2-bb57-2418f1f930d9",
   "metadata": {},
   "outputs": [
    {
     "data": {
      "text/plain": [
       "torch.Size([2, 3, 4, 6])"
      ]
     },
     "execution_count": 115,
     "metadata": {},
     "output_type": "execute_result"
    }
   ],
   "source": [
    "torch.matmul(a,b).shape"
   ]
  },
  {
   "cell_type": "code",
   "execution_count": 118,
   "id": "633eaf33-47c8-4522-b319-a4d647f864f4",
   "metadata": {},
   "outputs": [
    {
     "data": {
      "text/plain": [
       "torch.Size([2, 3, 4, 6])"
      ]
     },
     "execution_count": 118,
     "metadata": {},
     "output_type": "execute_result"
    }
   ],
   "source": [
    "a.matmul(b).shape"
   ]
  },
  {
   "cell_type": "code",
   "execution_count": 116,
   "id": "36813936-702a-4326-93f4-5d99a4e1ade0",
   "metadata": {},
   "outputs": [
    {
     "data": {
      "text/plain": [
       "tensor([[[[True, True, True, True, True, True],\n",
       "          [True, True, True, True, True, True],\n",
       "          [True, True, True, True, True, True],\n",
       "          [True, True, True, True, True, True]],\n",
       "\n",
       "         [[True, True, True, True, True, True],\n",
       "          [True, True, True, True, True, True],\n",
       "          [True, True, True, True, True, True],\n",
       "          [True, True, True, True, True, True]],\n",
       "\n",
       "         [[True, True, True, True, True, True],\n",
       "          [True, True, True, True, True, True],\n",
       "          [True, True, True, True, True, True],\n",
       "          [True, True, True, True, True, True]]],\n",
       "\n",
       "\n",
       "        [[[True, True, True, True, True, True],\n",
       "          [True, True, True, True, True, True],\n",
       "          [True, True, True, True, True, True],\n",
       "          [True, True, True, True, True, True]],\n",
       "\n",
       "         [[True, True, True, True, True, True],\n",
       "          [True, True, True, True, True, True],\n",
       "          [True, True, True, True, True, True],\n",
       "          [True, True, True, True, True, True]],\n",
       "\n",
       "         [[True, True, True, True, True, True],\n",
       "          [True, True, True, True, True, True],\n",
       "          [True, True, True, True, True, True],\n",
       "          [True, True, True, True, True, True]]]])"
      ]
     },
     "execution_count": 116,
     "metadata": {},
     "output_type": "execute_result"
    }
   ],
   "source": [
    "torch.matmul(a,b)==(a@b)"
   ]
  },
  {
   "cell_type": "code",
   "execution_count": 65,
   "id": "f99bee43-3f1b-4039-8c86-d3670883397b",
   "metadata": {},
   "outputs": [
    {
     "data": {
      "text/plain": [
       "torch.Size([2, 3, 8, 7])"
      ]
     },
     "execution_count": 65,
     "metadata": {},
     "output_type": "execute_result"
    }
   ],
   "source": [
    "# 广播扩展，注意第二个维度一个是1，第一个维度必须相等\n",
    "torch.matmul(torch.randint(1, 10, (2, 1, 8, 5)), torch.randint(1, 10, (2, 3, 5, 7))).shape"
   ]
  },
  {
   "cell_type": "markdown",
   "id": "250c0a06-e105-42bf-8421-77cb31524774",
   "metadata": {},
   "source": [
    "#### 关系运算"
   ]
  },
  {
   "cell_type": "code",
   "execution_count": 69,
   "id": "3878bc3b-aa7e-4fe8-a512-7324bd921473",
   "metadata": {},
   "outputs": [
    {
     "data": {
      "text/plain": [
       "tensor(1, dtype=torch.int16)"
      ]
     },
     "execution_count": 69,
     "metadata": {},
     "output_type": "execute_result"
    }
   ],
   "source": [
    "c = torch.tensor(1, dtype=torch.int16)\n",
    "c"
   ]
  },
  {
   "cell_type": "code",
   "execution_count": 70,
   "id": "3c348266-b87d-4422-8cae-ec62d59a646b",
   "metadata": {},
   "outputs": [
    {
     "data": {
      "text/plain": [
       "tensor(1.)"
      ]
     },
     "execution_count": 70,
     "metadata": {},
     "output_type": "execute_result"
    }
   ],
   "source": [
    "d = torch.tensor(1.0, dtype=torch.float32)\n",
    "d"
   ]
  },
  {
   "cell_type": "code",
   "execution_count": 121,
   "id": "61f00ce4-d2e6-4e77-91f3-07248f30a34b",
   "metadata": {},
   "outputs": [
    {
     "data": {
      "text/plain": [
       "tensor(True)"
      ]
     },
     "execution_count": 121,
     "metadata": {},
     "output_type": "execute_result"
    }
   ],
   "source": [
    "c == d"
   ]
  },
  {
   "cell_type": "code",
   "execution_count": 127,
   "id": "aff25769-f69e-4342-a812-f6e3148ccda7",
   "metadata": {},
   "outputs": [
    {
     "data": {
      "text/plain": [
       "tensor(True)"
      ]
     },
     "execution_count": 127,
     "metadata": {},
     "output_type": "execute_result"
    }
   ],
   "source": [
    "torch.all(torch.matmul(a,b) == (a@b))"
   ]
  },
  {
   "cell_type": "code",
   "execution_count": 67,
   "id": "57d83fa4-9363-4ad4-822e-163eeefdcf40",
   "metadata": {},
   "outputs": [
    {
     "data": {
      "text/plain": [
       "(tensor([[7, 6, 8],\n",
       "         [5, 1, 3]], dtype=torch.int32),\n",
       " tensor([[8, 6, 5],\n",
       "         [3, 5, 5]], dtype=torch.int32))"
      ]
     },
     "execution_count": 67,
     "metadata": {},
     "output_type": "execute_result"
    }
   ],
   "source": [
    "# 随机int\n",
    "torch.manual_seed(42)\n",
    "a = torch.randint(1, 10, (2, 3), dtype=torch.int32)\n",
    "b = torch.randint(1, 10, (2, 3), dtype=torch.int32)\n",
    "a, b"
   ]
  },
  {
   "cell_type": "code",
   "execution_count": 4,
   "id": "086e8497-8f91-4640-a36f-8e954182bb17",
   "metadata": {},
   "outputs": [
    {
     "data": {
      "text/plain": [
       "tensor([[False, False,  True],\n",
       "        [ True, False, False]])"
      ]
     },
     "execution_count": 4,
     "metadata": {},
     "output_type": "execute_result"
    }
   ],
   "source": [
    "a > b"
   ]
  },
  {
   "cell_type": "code",
   "execution_count": 68,
   "id": "35254530-1776-418f-a9cd-9386035f064c",
   "metadata": {},
   "outputs": [
    {
     "data": {
      "text/plain": [
       "False"
      ]
     },
     "execution_count": 68,
     "metadata": {},
     "output_type": "execute_result"
    }
   ],
   "source": [
    "torch.allclose(a,b)"
   ]
  },
  {
   "cell_type": "code",
   "execution_count": 5,
   "id": "cec5e116-2bb4-4993-bdbb-49d5b677fc32",
   "metadata": {},
   "outputs": [
    {
     "data": {
      "text/plain": [
       "tensor([[[0.5161, 0.3939, 0.3278, 0.2606],\n",
       "         [0.0931, 0.9193, 0.2999, 0.6325],\n",
       "         [0.3265, 0.5406, 0.9662, 0.7304]],\n",
       "\n",
       "        [[0.0667, 0.6985, 0.9746, 0.6315],\n",
       "         [0.8352, 0.9929, 0.4234, 0.6038],\n",
       "         [0.1525, 0.3970, 0.8703, 0.7563]]])"
      ]
     },
     "execution_count": 5,
     "metadata": {},
     "output_type": "execute_result"
    }
   ],
   "source": [
    "e = torch.rand((2,3,4))\n",
    "e"
   ]
  },
  {
   "cell_type": "code",
   "execution_count": 84,
   "id": "0efc49b2-603a-472d-9a87-f1656bc10b52",
   "metadata": {},
   "outputs": [
    {
     "data": {
      "text/plain": [
       "True"
      ]
     },
     "execution_count": 84,
     "metadata": {},
     "output_type": "execute_result"
    }
   ],
   "source": [
    "torch.allclose(e, e+1e-8)"
   ]
  },
  {
   "cell_type": "markdown",
   "id": "5f71790d-03a0-461d-99a6-2ad64ec7f86d",
   "metadata": {},
   "source": [
    "### 元素选取"
   ]
  },
  {
   "cell_type": "code",
   "execution_count": 3,
   "id": "71752f12-eaef-4181-8b26-48b0b9ffa11f",
   "metadata": {},
   "outputs": [
    {
     "data": {
      "text/plain": [
       "tensor([[7, 6, 8, 5],\n",
       "        [1, 3, 8, 6],\n",
       "        [5, 3, 5, 5],\n",
       "        [9, 1, 1, 5]], dtype=torch.int8)"
      ]
     },
     "execution_count": 3,
     "metadata": {},
     "output_type": "execute_result"
    }
   ],
   "source": [
    "torch.manual_seed(42)\n",
    "a = torch.randint(1, 10, (4, 4), dtype=torch.int8)\n",
    "a"
   ]
  },
  {
   "cell_type": "markdown",
   "id": "ae6e3077-d4ac-4c74-a72a-fea50997d1a1",
   "metadata": {},
   "source": [
    "#### 索引"
   ]
  },
  {
   "cell_type": "code",
   "execution_count": 8,
   "id": "37c843b1-b418-4452-8f96-fd8c577aeba9",
   "metadata": {},
   "outputs": [
    {
     "data": {
      "text/plain": [
       "tensor([8, 5], dtype=torch.int8)"
      ]
     },
     "execution_count": 8,
     "metadata": {},
     "output_type": "execute_result"
    }
   ],
   "source": [
    "ix = a[[1,2],[2]]\n",
    "ix"
   ]
  },
  {
   "cell_type": "code",
   "execution_count": 9,
   "id": "cd3302c4-d3f3-4485-a50d-ad4a189c6088",
   "metadata": {},
   "outputs": [
    {
     "data": {
      "text/plain": [
       "tensor([-3,  5], dtype=torch.int8)"
      ]
     },
     "execution_count": 9,
     "metadata": {},
     "output_type": "execute_result"
    }
   ],
   "source": [
    "ix[0] = -3\n",
    "ix"
   ]
  },
  {
   "cell_type": "code",
   "execution_count": 10,
   "id": "2d9a1006-b303-4a07-874e-15064c03d07c",
   "metadata": {},
   "outputs": [
    {
     "data": {
      "text/plain": [
       "tensor([[7, 6, 8, 5],\n",
       "        [1, 3, 8, 6],\n",
       "        [5, 3, 5, 5],\n",
       "        [9, 1, 1, 5]], dtype=torch.int8)"
      ]
     },
     "execution_count": 10,
     "metadata": {},
     "output_type": "execute_result"
    }
   ],
   "source": [
    "a"
   ]
  },
  {
   "cell_type": "markdown",
   "id": "637e83e1-9a97-44f7-8083-44e597e9aaf3",
   "metadata": {},
   "source": [
    "#### 切片"
   ]
  },
  {
   "cell_type": "code",
   "execution_count": 11,
   "id": "e5392f43-0b8a-4841-a2b0-4fde2a739297",
   "metadata": {},
   "outputs": [
    {
     "data": {
      "text/plain": [
       "tensor([[7, 6, 8],\n",
       "        [1, 3, 8]], dtype=torch.int8)"
      ]
     },
     "execution_count": 11,
     "metadata": {},
     "output_type": "execute_result"
    }
   ],
   "source": [
    "slice = a[:2, :3]\n",
    "slice"
   ]
  },
  {
   "cell_type": "code",
   "execution_count": 170,
   "id": "c8defd53-834d-44ca-9862-c4e3221cebfa",
   "metadata": {},
   "outputs": [],
   "source": [
    "slice[0][0] = -7"
   ]
  },
  {
   "cell_type": "code",
   "execution_count": 171,
   "id": "4eac6eb9-db25-404e-994a-5a80540fa790",
   "metadata": {},
   "outputs": [
    {
     "data": {
      "text/plain": [
       "tensor([[-7,  6,  8,  5],\n",
       "        [ 1,  3,  8,  6],\n",
       "        [ 5,  3,  5,  5],\n",
       "        [ 9,  1,  1,  5]], dtype=torch.int8)"
      ]
     },
     "execution_count": 171,
     "metadata": {},
     "output_type": "execute_result"
    }
   ],
   "source": [
    "a"
   ]
  },
  {
   "cell_type": "code",
   "execution_count": 167,
   "id": "2437dc92-870f-4274-b865-fdc4041a19bb",
   "metadata": {},
   "outputs": [],
   "source": [
    "# clone后会有新的副本"
   ]
  },
  {
   "cell_type": "code",
   "execution_count": 172,
   "id": "07202b10-cef8-4d9e-9021-7e328caeb2ad",
   "metadata": {},
   "outputs": [
    {
     "data": {
      "text/plain": [
       "tensor([[-7,  6,  8],\n",
       "        [ 1,  3,  8]], dtype=torch.int8)"
      ]
     },
     "execution_count": 172,
     "metadata": {},
     "output_type": "execute_result"
    }
   ],
   "source": [
    "slice = a[:2,:3].clone()\n",
    "slice"
   ]
  },
  {
   "cell_type": "code",
   "execution_count": 173,
   "id": "6aee7159-de52-4c93-934c-274d053cbf19",
   "metadata": {},
   "outputs": [],
   "source": [
    "slice[0][0] = -77"
   ]
  },
  {
   "cell_type": "code",
   "execution_count": 174,
   "id": "c337acef-6af8-4e40-b3a3-337cc43cbcd5",
   "metadata": {},
   "outputs": [
    {
     "data": {
      "text/plain": [
       "tensor([[-7,  6,  8,  5],\n",
       "        [ 1,  3,  8,  6],\n",
       "        [ 5,  3,  5,  5],\n",
       "        [ 9,  1,  1,  5]], dtype=torch.int8)"
      ]
     },
     "execution_count": 174,
     "metadata": {},
     "output_type": "execute_result"
    }
   ],
   "source": [
    "a"
   ]
  },
  {
   "cell_type": "markdown",
   "id": "b206ec52-3013-45f8-9875-e7a8436e99fd",
   "metadata": {},
   "source": [
    "#### 切片索引"
   ]
  },
  {
   "cell_type": "code",
   "execution_count": 112,
   "id": "9a9d5106-3516-4f82-871f-60cbd5039618",
   "metadata": {},
   "outputs": [
    {
     "data": {
      "text/plain": [
       "tensor([5, 6], dtype=torch.int8)"
      ]
     },
     "execution_count": 112,
     "metadata": {},
     "output_type": "execute_result"
    }
   ],
   "source": [
    "ixslice = a[:2,3]\n",
    "ixslice"
   ]
  },
  {
   "cell_type": "code",
   "execution_count": 113,
   "id": "b400ee43-6d9b-46d8-b54b-926461690686",
   "metadata": {},
   "outputs": [],
   "source": [
    "ixslice[0] = -5"
   ]
  },
  {
   "cell_type": "code",
   "execution_count": 114,
   "id": "b1252e5b-40b6-4cd4-a9fa-9cd0fcc45988",
   "metadata": {},
   "outputs": [
    {
     "data": {
      "text/plain": [
       "tensor([[-7,  6,  8, -5],\n",
       "        [ 1,  3,  8,  6],\n",
       "        [ 5,  3,  5,  5],\n",
       "        [ 9,  1,  1,  5]], dtype=torch.int8)"
      ]
     },
     "execution_count": 114,
     "metadata": {},
     "output_type": "execute_result"
    }
   ],
   "source": [
    "a"
   ]
  },
  {
   "cell_type": "markdown",
   "id": "0f291723-52fe-4bde-9ae7-0aa0133493aa",
   "metadata": {},
   "source": [
    "#### 极值"
   ]
  },
  {
   "cell_type": "code",
   "execution_count": 14,
   "id": "129988da-01c7-4227-b2d7-a7b98635c788",
   "metadata": {},
   "outputs": [
    {
     "data": {
      "text/plain": [
       "tensor([[7, 6, 8, 5],\n",
       "        [1, 3, 8, 6],\n",
       "        [5, 3, 5, 5],\n",
       "        [9, 1, 1, 5]], dtype=torch.int8)"
      ]
     },
     "execution_count": 14,
     "metadata": {},
     "output_type": "execute_result"
    }
   ],
   "source": [
    "torch.manual_seed(42)\n",
    "a = torch.randint(1, 10, (4, 4), dtype=torch.int8)\n",
    "a"
   ]
  },
  {
   "cell_type": "code",
   "execution_count": 121,
   "id": "1e794811-5907-4908-8d49-c4b3adf98da1",
   "metadata": {},
   "outputs": [
    {
     "data": {
      "text/plain": [
       "torch.return_types.max(\n",
       "values=tensor([9, 6, 8, 6], dtype=torch.int8),\n",
       "indices=tensor([3, 0, 0, 1]))"
      ]
     },
     "execution_count": 121,
     "metadata": {},
     "output_type": "execute_result"
    }
   ],
   "source": [
    "a.max(0)"
   ]
  },
  {
   "cell_type": "code",
   "execution_count": 122,
   "id": "dbb6e618-b482-411a-a921-90a8fd046db2",
   "metadata": {},
   "outputs": [
    {
     "data": {
      "text/plain": [
       "torch.return_types.max(\n",
       "values=tensor([8, 8, 5, 9], dtype=torch.int8),\n",
       "indices=tensor([2, 2, 0, 0]))"
      ]
     },
     "execution_count": 122,
     "metadata": {},
     "output_type": "execute_result"
    }
   ],
   "source": [
    "torch.max(a, 1)"
   ]
  },
  {
   "cell_type": "code",
   "execution_count": 125,
   "id": "a8bd63fe-3476-4a26-a89c-e71835952363",
   "metadata": {},
   "outputs": [
    {
     "data": {
      "text/plain": [
       "tensor([2, 2, 0, 0])"
      ]
     },
     "execution_count": 125,
     "metadata": {},
     "output_type": "execute_result"
    }
   ],
   "source": [
    "torch.argmax(a,1)"
   ]
  },
  {
   "cell_type": "markdown",
   "id": "a4a31fe3-061c-4c14-b03a-e3ee697d8865",
   "metadata": {},
   "source": [
    "#### 随机"
   ]
  },
  {
   "cell_type": "code",
   "execution_count": 145,
   "id": "37a326cd-2094-423b-b241-ec6855675f34",
   "metadata": {},
   "outputs": [
    {
     "data": {
      "text/plain": [
       "tensor([[9, 2, 0],\n",
       "        [5, 9, 3]])"
      ]
     },
     "execution_count": 145,
     "metadata": {},
     "output_type": "execute_result"
    }
   ],
   "source": [
    "# 随机index\n",
    "torch.randint(0, 10, (2,3))"
   ]
  },
  {
   "cell_type": "code",
   "execution_count": 139,
   "id": "8fe38aa4-99ff-4ad8-8bcf-0e828464015d",
   "metadata": {},
   "outputs": [
    {
     "data": {
      "text/plain": [
       "tensor([3, 2, 1, 4, 0])"
      ]
     },
     "execution_count": 139,
     "metadata": {},
     "output_type": "execute_result"
    }
   ],
   "source": [
    "# 随机排列\n",
    "torch.randperm(5)"
   ]
  },
  {
   "cell_type": "markdown",
   "id": "a1921f1a-4729-4e04-9a47-87fadc45a117",
   "metadata": {},
   "source": [
    "### 元素修改"
   ]
  },
  {
   "cell_type": "markdown",
   "id": "cfd1b838-eef2-46df-9aef-dbccd4b077a0",
   "metadata": {},
   "source": [
    "#### 调整shape"
   ]
  },
  {
   "cell_type": "code",
   "execution_count": 6,
   "id": "23b75ffe-4083-44f3-b4c1-8f20cdc21556",
   "metadata": {},
   "outputs": [
    {
     "data": {
      "text/plain": [
       "tensor([[7, 6, 8, 5],\n",
       "        [1, 3, 8, 6],\n",
       "        [5, 3, 5, 5]], dtype=torch.int32)"
      ]
     },
     "execution_count": 6,
     "metadata": {},
     "output_type": "execute_result"
    }
   ],
   "source": [
    "torch.manual_seed(42)\n",
    "a = torch.randint(1, 10, (3, 4), dtype=torch.int32)\n",
    "a"
   ]
  },
  {
   "cell_type": "code",
   "execution_count": 7,
   "id": "a9782a3a-5619-46bf-a885-6d98b8a2241d",
   "metadata": {},
   "outputs": [
    {
     "data": {
      "text/plain": [
       "tensor([[7, 6, 8],\n",
       "        [5, 1, 3],\n",
       "        [8, 6, 5],\n",
       "        [3, 5, 5]], dtype=torch.int32)"
      ]
     },
     "execution_count": 7,
     "metadata": {},
     "output_type": "execute_result"
    }
   ],
   "source": [
    "a.reshape((4,3))"
   ]
  },
  {
   "cell_type": "code",
   "execution_count": 8,
   "id": "d802c180-5805-4ced-af24-eb91df8b56f1",
   "metadata": {},
   "outputs": [
    {
     "ename": "RuntimeError",
     "evalue": "shape '[4, 4]' is invalid for input of size 12",
     "output_type": "error",
     "traceback": [
      "\u001b[1;31m---------------------------------------------------------------------------\u001b[0m",
      "\u001b[1;31mRuntimeError\u001b[0m                              Traceback (most recent call last)",
      "Cell \u001b[1;32mIn[8], line 1\u001b[0m\n\u001b[1;32m----> 1\u001b[0m \u001b[43ma\u001b[49m\u001b[38;5;241;43m.\u001b[39;49m\u001b[43mreshape\u001b[49m\u001b[43m(\u001b[49m\u001b[43m(\u001b[49m\u001b[38;5;241;43m4\u001b[39;49m\u001b[43m,\u001b[49m\u001b[38;5;241;43m4\u001b[39;49m\u001b[43m)\u001b[49m\u001b[43m)\u001b[49m\n",
      "\u001b[1;31mRuntimeError\u001b[0m: shape '[4, 4]' is invalid for input of size 12"
     ]
    }
   ],
   "source": [
    "a.reshape((4,4))"
   ]
  },
  {
   "cell_type": "code",
   "execution_count": 187,
   "id": "e1eb6b78-23be-4f57-a5ea-cc6341b5b039",
   "metadata": {},
   "outputs": [
    {
     "data": {
      "text/plain": [
       "tensor([[7, 6, 8, 5, 1, 3],\n",
       "        [8, 6, 5, 3, 5, 5]], dtype=torch.int32)"
      ]
     },
     "execution_count": 187,
     "metadata": {},
     "output_type": "execute_result"
    }
   ],
   "source": [
    "# view 适合continuous的，reshape适合任意的张量\n",
    "a.view((2, 6))"
   ]
  },
  {
   "cell_type": "code",
   "execution_count": 188,
   "id": "17b9363f-385f-4b2d-8758-489374af1552",
   "metadata": {},
   "outputs": [
    {
     "data": {
      "text/plain": [
       "True"
      ]
     },
     "execution_count": 188,
     "metadata": {},
     "output_type": "execute_result"
    }
   ],
   "source": [
    "a.is_contiguous()"
   ]
  },
  {
   "cell_type": "markdown",
   "id": "b5ea4fb3-31d4-40b1-adf0-cbb2aa88d926",
   "metadata": {},
   "source": [
    "#### 调整类型"
   ]
  },
  {
   "cell_type": "code",
   "execution_count": 189,
   "id": "703b3625-8f51-479e-9e59-db027abeccad",
   "metadata": {},
   "outputs": [
    {
     "data": {
      "text/plain": [
       "tensor([[7, 6, 8],\n",
       "        [5, 1, 3]], dtype=torch.int32)"
      ]
     },
     "execution_count": 189,
     "metadata": {},
     "output_type": "execute_result"
    }
   ],
   "source": [
    "torch.manual_seed(42)\n",
    "a = torch.randint(1, 10, (2,3), dtype=torch.int32)\n",
    "a"
   ]
  },
  {
   "cell_type": "code",
   "execution_count": 192,
   "id": "d4bef04b-0d71-49d6-9cbb-92302c5b200a",
   "metadata": {},
   "outputs": [
    {
     "data": {
      "text/plain": [
       "torch.float32"
      ]
     },
     "execution_count": 192,
     "metadata": {},
     "output_type": "execute_result"
    }
   ],
   "source": [
    "a.float().dtype"
   ]
  },
  {
   "cell_type": "code",
   "execution_count": 194,
   "id": "0b212e36-5359-4128-8405-a6cf9cf6e30a",
   "metadata": {},
   "outputs": [
    {
     "data": {
      "text/plain": [
       "tensor([[7, 6, 8],\n",
       "        [5, 1, 3]], dtype=torch.int32)"
      ]
     },
     "execution_count": 194,
     "metadata": {},
     "output_type": "execute_result"
    }
   ],
   "source": [
    "a.float().int()"
   ]
  },
  {
   "cell_type": "code",
   "execution_count": 195,
   "id": "b25b73c0-4acb-40d3-8b2b-fdb69f9fafa4",
   "metadata": {},
   "outputs": [
    {
     "data": {
      "text/plain": [
       "tensor([[7., 6., 8.],\n",
       "        [5., 1., 3.]], dtype=torch.float16)"
      ]
     },
     "execution_count": 195,
     "metadata": {},
     "output_type": "execute_result"
    }
   ],
   "source": [
    "a.half()"
   ]
  },
  {
   "cell_type": "code",
   "execution_count": 198,
   "id": "46bc5ec7-c274-4ce5-94f6-9a2585e4554b",
   "metadata": {},
   "outputs": [
    {
     "data": {
      "text/plain": [
       "tensor([[7, 6, 8],\n",
       "        [5, 1, 3]], dtype=torch.int8)"
      ]
     },
     "execution_count": 198,
     "metadata": {},
     "output_type": "execute_result"
    }
   ],
   "source": [
    "a.type(torch.int8)"
   ]
  },
  {
   "cell_type": "code",
   "execution_count": 199,
   "id": "a933e077-a9be-40aa-8978-facb72c12c6c",
   "metadata": {},
   "outputs": [
    {
     "data": {
      "text/plain": [
       "tensor([[True, True, True],\n",
       "        [True, True, True]])"
      ]
     },
     "execution_count": 199,
     "metadata": {},
     "output_type": "execute_result"
    }
   ],
   "source": [
    "a.type(torch.bool)"
   ]
  },
  {
   "cell_type": "markdown",
   "id": "6e3feacf-17bc-4036-880a-e5e90ec3c592",
   "metadata": {},
   "source": [
    "#### 调整维度"
   ]
  },
  {
   "cell_type": "code",
   "execution_count": 13,
   "id": "1fcd2dd2-c28d-463b-9cb0-837159feeee4",
   "metadata": {},
   "outputs": [
    {
     "data": {
      "text/plain": [
       "tensor([[7, 6, 8],\n",
       "        [5, 1, 3]], dtype=torch.int32)"
      ]
     },
     "execution_count": 13,
     "metadata": {},
     "output_type": "execute_result"
    }
   ],
   "source": [
    "torch.manual_seed(42)\n",
    "a = torch.randint(1, 10, (2, 3), dtype=torch.int32)\n",
    "a"
   ]
  },
  {
   "cell_type": "code",
   "execution_count": 14,
   "id": "e1979f5b-922f-4b9a-82a1-5e0a161017aa",
   "metadata": {},
   "outputs": [
    {
     "data": {
      "text/plain": [
       "tensor([[[7, 6, 8],\n",
       "         [5, 1, 3]]], dtype=torch.int32)"
      ]
     },
     "execution_count": 14,
     "metadata": {},
     "output_type": "execute_result"
    }
   ],
   "source": [
    "a.unsqueeze(0)"
   ]
  },
  {
   "cell_type": "code",
   "execution_count": 11,
   "id": "84358e5f-ce52-4944-b5d7-da2fa916ba74",
   "metadata": {},
   "outputs": [
    {
     "data": {
      "text/plain": [
       "torch.Size([1, 2, 3])"
      ]
     },
     "execution_count": 11,
     "metadata": {},
     "output_type": "execute_result"
    }
   ],
   "source": [
    "a.unsqueeze(0).shape"
   ]
  },
  {
   "cell_type": "code",
   "execution_count": 12,
   "id": "f1399bf6-8baa-4ef6-b289-b20b1f3dbf32",
   "metadata": {},
   "outputs": [
    {
     "data": {
      "text/plain": [
       "tensor([[7, 6, 8],\n",
       "        [5, 1, 3]], dtype=torch.int32)"
      ]
     },
     "execution_count": 12,
     "metadata": {},
     "output_type": "execute_result"
    }
   ],
   "source": [
    "a"
   ]
  },
  {
   "cell_type": "code",
   "execution_count": 183,
   "id": "8f5619b1-3eb1-4138-ad3a-0171c11e0cb6",
   "metadata": {},
   "outputs": [
    {
     "data": {
      "text/plain": [
       "tensor([[7, 6, 8],\n",
       "        [5, 1, 3]], dtype=torch.int32)"
      ]
     },
     "execution_count": 183,
     "metadata": {},
     "output_type": "execute_result"
    }
   ],
   "source": [
    "a.unsqueeze(0).squeeze(0)"
   ]
  },
  {
   "cell_type": "code",
   "execution_count": 15,
   "id": "310c7c45-bb57-4e4f-8813-fa44a43a6850",
   "metadata": {},
   "outputs": [
    {
     "data": {
      "text/plain": [
       "tensor([[[7, 6, 8],\n",
       "         [5, 1, 3]]], dtype=torch.int32)"
      ]
     },
     "execution_count": 15,
     "metadata": {},
     "output_type": "execute_result"
    }
   ],
   "source": [
    "a[None,:]"
   ]
  },
  {
   "cell_type": "code",
   "execution_count": 201,
   "id": "c7002ca3-7b51-4153-96a5-376be2717a7a",
   "metadata": {},
   "outputs": [
    {
     "data": {
      "text/plain": [
       "torch.Size([1, 2, 3])"
      ]
     },
     "execution_count": 201,
     "metadata": {},
     "output_type": "execute_result"
    }
   ],
   "source": [
    "a[None,:].shape"
   ]
  },
  {
   "cell_type": "code",
   "execution_count": 209,
   "id": "6534848b-0c09-4708-80b7-a23dc5d65191",
   "metadata": {},
   "outputs": [
    {
     "data": {
      "text/plain": [
       "(torch.Size([2, 1]), torch.Size([2, 1]))"
      ]
     },
     "execution_count": 209,
     "metadata": {},
     "output_type": "execute_result"
    }
   ],
   "source": [
    "a[:,[-1]].shape, a[:,None,-1].shape"
   ]
  },
  {
   "cell_type": "code",
   "execution_count": 210,
   "id": "2ad31164-219c-4b95-b7a4-81c5edadb500",
   "metadata": {},
   "outputs": [
    {
     "data": {
      "text/plain": [
       "tensor([[8],\n",
       "        [3]], dtype=torch.int32)"
      ]
     },
     "execution_count": 210,
     "metadata": {},
     "output_type": "execute_result"
    }
   ],
   "source": [
    "a[:,[-1]]"
   ]
  },
  {
   "cell_type": "code",
   "execution_count": 211,
   "id": "db4a30c9-6aa5-4e84-b007-94b748962e91",
   "metadata": {},
   "outputs": [
    {
     "data": {
      "text/plain": [
       "tensor([[8],\n",
       "        [3]], dtype=torch.int32)"
      ]
     },
     "execution_count": 211,
     "metadata": {},
     "output_type": "execute_result"
    }
   ],
   "source": [
    "a[:,None,-1]"
   ]
  },
  {
   "cell_type": "code",
   "execution_count": 212,
   "id": "143afc6f-0721-4ddc-91b6-d295db287b15",
   "metadata": {},
   "outputs": [
    {
     "data": {
      "text/plain": [
       "tensor([[8],\n",
       "        [3]], dtype=torch.int32)"
      ]
     },
     "execution_count": 212,
     "metadata": {},
     "output_type": "execute_result"
    }
   ],
   "source": [
    "a[:,-1,None]"
   ]
  },
  {
   "cell_type": "code",
   "execution_count": 217,
   "id": "6a649e7c-e955-4390-961d-c28100c27dc6",
   "metadata": {},
   "outputs": [
    {
     "data": {
      "text/plain": [
       "tensor([[8, 3]], dtype=torch.int32)"
      ]
     },
     "execution_count": 217,
     "metadata": {},
     "output_type": "execute_result"
    }
   ],
   "source": [
    "a[None,:,-1]"
   ]
  },
  {
   "cell_type": "markdown",
   "id": "ea736ffb-27c2-4e50-81f0-6b72e3aefaff",
   "metadata": {},
   "source": [
    "想想上面这几个例子，为什么？"
   ]
  },
  {
   "cell_type": "markdown",
   "id": "6cf5fa67-6719-42a7-8d23-c8fc04b9a75a",
   "metadata": {},
   "source": [
    "#### 拆分"
   ]
  },
  {
   "cell_type": "code",
   "execution_count": 23,
   "id": "b9e76124-6e26-4a3b-92db-08e7b33d50a9",
   "metadata": {},
   "outputs": [
    {
     "data": {
      "text/plain": [
       "tensor([[7, 6, 8, 5],\n",
       "        [1, 3, 8, 6],\n",
       "        [5, 3, 5, 5],\n",
       "        [9, 1, 1, 5],\n",
       "        [3, 5, 4, 5]], dtype=torch.int32)"
      ]
     },
     "execution_count": 23,
     "metadata": {},
     "output_type": "execute_result"
    }
   ],
   "source": [
    "torch.manual_seed(42)\n",
    "a = torch.randint(1, 10, (5, 4), dtype=torch.int32)\n",
    "a"
   ]
  },
  {
   "cell_type": "code",
   "execution_count": 24,
   "id": "450b4689-de36-45c4-8b27-20137a1a721b",
   "metadata": {},
   "outputs": [
    {
     "data": {
      "text/plain": [
       "(tensor([[7, 6, 8, 5],\n",
       "         [1, 3, 8, 6],\n",
       "         [5, 3, 5, 5]], dtype=torch.int32),\n",
       " tensor([[9, 1, 1, 5],\n",
       "         [3, 5, 4, 5]], dtype=torch.int32))"
      ]
     },
     "execution_count": 24,
     "metadata": {},
     "output_type": "execute_result"
    }
   ],
   "source": [
    "torch.split(a, (3, 2))"
   ]
  },
  {
   "cell_type": "code",
   "execution_count": 25,
   "id": "25ce0f1d-9e5f-443f-9b0d-b3633bbe8295",
   "metadata": {},
   "outputs": [
    {
     "data": {
      "text/plain": [
       "(tensor([[7, 6, 8, 5],\n",
       "         [1, 3, 8, 6],\n",
       "         [5, 3, 5, 5]], dtype=torch.int32),\n",
       " tensor([], size=(0, 4), dtype=torch.int32),\n",
       " tensor([[5, 3, 5, 5],\n",
       "         [9, 1, 1, 5],\n",
       "         [3, 5, 4, 5]], dtype=torch.int32))"
      ]
     },
     "execution_count": 25,
     "metadata": {},
     "output_type": "execute_result"
    }
   ],
   "source": [
    "torch.tensor_split(a, (3,2))"
   ]
  },
  {
   "cell_type": "code",
   "execution_count": 19,
   "id": "fa668d8e-dd93-4222-88db-e0362ce354fa",
   "metadata": {},
   "outputs": [
    {
     "data": {
      "text/plain": [
       "(tensor([[7, 6, 8, 5],\n",
       "         [1, 3, 8, 6]], dtype=torch.int32),\n",
       " tensor([[5, 3, 5, 5],\n",
       "         [9, 1, 1, 5],\n",
       "         [3, 5, 4, 5]], dtype=torch.int32))"
      ]
     },
     "execution_count": 19,
     "metadata": {},
     "output_type": "execute_result"
    }
   ],
   "source": [
    "torch.split(a, (2, 3))"
   ]
  },
  {
   "cell_type": "code",
   "execution_count": 20,
   "id": "cfd4e768-cfda-41d7-86e3-163adc53c45c",
   "metadata": {},
   "outputs": [
    {
     "data": {
      "text/plain": [
       "(tensor([[7, 6, 8, 5],\n",
       "         [1, 3, 8, 6]], dtype=torch.int32),\n",
       " tensor([[5, 3, 5, 5],\n",
       "         [9, 1, 1, 5],\n",
       "         [3, 5, 4, 5]], dtype=torch.int32))"
      ]
     },
     "execution_count": 20,
     "metadata": {},
     "output_type": "execute_result"
    }
   ],
   "source": [
    "torch.tensor_split(a, (2,))"
   ]
  },
  {
   "cell_type": "code",
   "execution_count": 21,
   "id": "9f9bbcba-afe6-449b-a8da-020219adeb77",
   "metadata": {},
   "outputs": [
    {
     "data": {
      "text/plain": [
       "(tensor([[7, 6, 8, 5],\n",
       "         [1, 3, 8, 6]], dtype=torch.int32),\n",
       " tensor([[5, 3, 5, 5],\n",
       "         [9, 1, 1, 5]], dtype=torch.int32),\n",
       " tensor([[3, 5, 4, 5]], dtype=torch.int32))"
      ]
     },
     "execution_count": 21,
     "metadata": {},
     "output_type": "execute_result"
    }
   ],
   "source": [
    "a.split(2, 0)"
   ]
  },
  {
   "cell_type": "code",
   "execution_count": 22,
   "id": "11cb86ab-7b46-4b95-a9ec-a4a106e00141",
   "metadata": {},
   "outputs": [
    {
     "data": {
      "text/plain": [
       "(tensor([[7, 6, 8, 5],\n",
       "         [1, 3, 8, 6],\n",
       "         [5, 3, 5, 5]], dtype=torch.int32),\n",
       " tensor([[9, 1, 1, 5],\n",
       "         [3, 5, 4, 5]], dtype=torch.int32))"
      ]
     },
     "execution_count": 22,
     "metadata": {},
     "output_type": "execute_result"
    }
   ],
   "source": [
    "a.tensor_split(2)"
   ]
  },
  {
   "cell_type": "markdown",
   "id": "2ede8c07-d167-4908-9cce-270f603c4160",
   "metadata": {},
   "source": [
    "#### 合并"
   ]
  },
  {
   "cell_type": "code",
   "execution_count": 251,
   "id": "916a52e4-4032-48d1-abed-297085bf8539",
   "metadata": {},
   "outputs": [
    {
     "data": {
      "text/plain": [
       "(tensor([[7, 6, 8],\n",
       "         [5, 1, 3]], dtype=torch.int32),\n",
       " tensor([[8, 6, 5],\n",
       "         [3, 5, 5]], dtype=torch.int32))"
      ]
     },
     "execution_count": 251,
     "metadata": {},
     "output_type": "execute_result"
    }
   ],
   "source": [
    "torch.manual_seed(42)\n",
    "a = torch.randint(1, 10, (2, 3), dtype=torch.int32)\n",
    "b = torch.randint(1, 10, (2, 3), dtype=torch.int32)\n",
    "a, b"
   ]
  },
  {
   "cell_type": "code",
   "execution_count": 253,
   "id": "a465f600-6cdb-426b-8010-0389fc5031e3",
   "metadata": {},
   "outputs": [
    {
     "data": {
      "text/plain": [
       "torch.Size([2, 2, 3])"
      ]
     },
     "execution_count": 253,
     "metadata": {},
     "output_type": "execute_result"
    }
   ],
   "source": [
    "torch.stack([a,b]).shape"
   ]
  },
  {
   "cell_type": "code",
   "execution_count": 261,
   "id": "83774738-0365-4362-a3e6-744ac02536c7",
   "metadata": {},
   "outputs": [
    {
     "data": {
      "text/plain": [
       "torch.Size([4, 3])"
      ]
     },
     "execution_count": 261,
     "metadata": {},
     "output_type": "execute_result"
    }
   ],
   "source": [
    "# concat, concatenate\n",
    "torch.cat([a,b]).shape"
   ]
  },
  {
   "cell_type": "code",
   "execution_count": null,
   "id": "9aa2fde5-bebc-43f8-95a3-d8fb831bcef0",
   "metadata": {},
   "outputs": [],
   "source": []
  },
  {
   "cell_type": "code",
   "execution_count": null,
   "id": "06f6a2f2-37a4-41a7-996e-1d875dda9934",
   "metadata": {},
   "outputs": [],
   "source": []
  },
  {
   "cell_type": "markdown",
   "id": "51b3a519-72e9-4dfa-b03e-70144376a485",
   "metadata": {},
   "source": [
    "参考资料：\n",
    "\n",
    "[Introduction to PyTorch Tensors — PyTorch Tutorials 2.1.1+cu121 documentation](https://pytorch.org/tutorials/beginner/introyt/tensors_deeper_tutorial.html)"
   ]
  },
  {
   "cell_type": "code",
   "execution_count": null,
   "id": "4958c52e-e497-4189-a7e4-2520d118526c",
   "metadata": {},
   "outputs": [],
   "source": []
  }
 ],
 "metadata": {
  "kernelspec": {
   "display_name": "Python 3 (ipykernel)",
   "language": "python",
   "name": "python3"
  },
  "language_info": {
   "codemirror_mode": {
    "name": "ipython",
    "version": 3
   },
   "file_extension": ".py",
   "mimetype": "text/x-python",
   "name": "python",
   "nbconvert_exporter": "python",
   "pygments_lexer": "ipython3",
   "version": "3.10.18"
  }
 },
 "nbformat": 4,
 "nbformat_minor": 5
}
