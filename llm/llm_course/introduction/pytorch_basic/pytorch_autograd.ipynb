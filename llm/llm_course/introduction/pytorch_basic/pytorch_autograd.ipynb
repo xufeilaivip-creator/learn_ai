{
 "cells": [
  {
   "cell_type": "code",
   "execution_count": 1,
   "id": "b74f3b3b-c281-4e67-bb51-9aeb4197bb57",
   "metadata": {},
   "outputs": [],
   "source": [
    "import torch"
   ]
  },
  {
   "cell_type": "markdown",
   "id": "121c6326-fc34-408a-b20d-41234629511a",
   "metadata": {},
   "source": [
    "## Example"
   ]
  },
  {
   "cell_type": "code",
   "execution_count": 2,
   "id": "addbb917-6e2b-436a-a30c-bcda7ccbe4c9",
   "metadata": {},
   "outputs": [],
   "source": [
    "func = lambda x: x ** 2 + 2*x + 1"
   ]
  },
  {
   "cell_type": "code",
   "execution_count": 3,
   "id": "cf8b555e-7790-4e09-8c21-a5a280b417c5",
   "metadata": {},
   "outputs": [
    {
     "data": {
      "text/plain": [
       "tensor([0., 1., 2., 3., 4.], requires_grad=True)"
      ]
     },
     "execution_count": 3,
     "metadata": {},
     "output_type": "execute_result"
    }
   ],
   "source": [
    "x = torch.arange(5, dtype=torch.float32, requires_grad=True)\n",
    "x"
   ]
  },
  {
   "cell_type": "code",
   "execution_count": 4,
   "id": "675ebe50-15b4-4586-aebd-14864180ae50",
   "metadata": {},
   "outputs": [
    {
     "data": {
      "text/plain": [
       "tensor([ 1.,  4.,  9., 16., 25.], grad_fn=<AddBackward0>)"
      ]
     },
     "execution_count": 4,
     "metadata": {},
     "output_type": "execute_result"
    }
   ],
   "source": [
    "y = func(x)\n",
    "y"
   ]
  },
  {
   "cell_type": "code",
   "execution_count": 5,
   "id": "dec6e0fc-a8f7-4e28-8f00-efbc4fc99c1e",
   "metadata": {},
   "outputs": [],
   "source": [
    "y.sum().backward()"
   ]
  },
  {
   "cell_type": "code",
   "execution_count": 6,
   "id": "667d5a7c-4518-4cde-acf6-257a342bc633",
   "metadata": {},
   "outputs": [
    {
     "data": {
      "text/plain": [
       "tensor([ 2.,  4.,  6.,  8., 10.])"
      ]
     },
     "execution_count": 6,
     "metadata": {},
     "output_type": "execute_result"
    }
   ],
   "source": [
    "x.grad"
   ]
  },
  {
   "cell_type": "code",
   "execution_count": 7,
   "id": "187eda53-42ee-40da-9010-5635b7388257",
   "metadata": {},
   "outputs": [
    {
     "data": {
      "text/plain": [
       "tensor([ 2.,  4.,  6.,  8., 10.], grad_fn=<AddBackward0>)"
      ]
     },
     "execution_count": 7,
     "metadata": {},
     "output_type": "execute_result"
    }
   ],
   "source": [
    "2 * x + 2"
   ]
  },
  {
   "cell_type": "markdown",
   "id": "e73438c4-1aa3-434e-ab88-9bc160085d50",
   "metadata": {},
   "source": [
    "## Jacobian"
   ]
  },
  {
   "cell_type": "code",
   "execution_count": 12,
   "id": "4460717d-ada4-47a2-8381-c4f05e547cfd",
   "metadata": {},
   "outputs": [
    {
     "name": "stdout",
     "output_type": "stream",
     "text": [
      "inp =\n",
      "tensor([[1., 0., 0., 0., 0.],\n",
      "        [0., 1., 0., 0., 0.],\n",
      "        [0., 0., 1., 0., 0.],\n",
      "        [0., 0., 0., 1., 0.]], requires_grad=True)\n",
      "First call\n",
      "tensor([[4., 2., 2., 2., 2.],\n",
      "        [2., 4., 2., 2., 2.],\n",
      "        [2., 2., 4., 2., 2.],\n",
      "        [2., 2., 2., 4., 2.]])\n",
      "\n",
      "Second call\n",
      "tensor([[8., 4., 4., 4., 4.],\n",
      "        [4., 8., 4., 4., 4.],\n",
      "        [4., 4., 8., 4., 4.],\n",
      "        [4., 4., 4., 8., 4.]])\n",
      "\n",
      "Third call\n",
      "tensor([[12.,  6.,  6.,  6.,  6.],\n",
      "        [ 6., 12.,  6.,  6.,  6.],\n",
      "        [ 6.,  6., 12.,  6.,  6.],\n",
      "        [ 6.,  6.,  6., 12.,  6.]])\n",
      "\n",
      "Call after zeroing gradients\n",
      "tensor([[4., 2., 2., 2., 2.],\n",
      "        [2., 4., 2., 2., 2.],\n",
      "        [2., 2., 4., 2., 2.],\n",
      "        [2., 2., 2., 4., 2.]])\n"
     ]
    }
   ],
   "source": [
    "inp = torch.eye(4, 5, requires_grad=True)\n",
    "print(f\"inp =\\n{inp}\")\n",
    "out = (inp+1).pow(2)\n",
    "# retain_graph，False会free掉计算后的grad\n",
    "out.backward(torch.ones_like(out), retain_graph=True)\n",
    "print(f\"First call\\n{inp.grad}\")\n",
    "\n",
    "# 累计梯度\n",
    "out.backward(torch.ones_like(out), retain_graph=True)\n",
    "print(f\"\\nSecond call\\n{inp.grad}\")\n",
    "\n",
    "# 累计梯度\n",
    "out.backward(torch.ones_like(out), retain_graph=True)\n",
    "print(f\"\\nThird call\\n{inp.grad}\")\n",
    "\n",
    "\n",
    "inp.grad.zero_()\n",
    "out.backward(torch.ones_like(out), retain_graph=True)\n",
    "print(f\"\\nCall after zeroing gradients\\n{inp.grad}\")"
   ]
  },
  {
   "cell_type": "code",
   "execution_count": 9,
   "id": "8cd516e2-a867-4676-b483-6caa242fe8e3",
   "metadata": {},
   "outputs": [
    {
     "data": {
      "text/plain": [
       "tensor([[4., 2., 2., 2., 2.],\n",
       "        [2., 4., 2., 2., 2.],\n",
       "        [2., 2., 4., 2., 2.],\n",
       "        [2., 2., 2., 4., 2.]], grad_fn=<MulBackward0>)"
      ]
     },
     "execution_count": 9,
     "metadata": {},
     "output_type": "execute_result"
    }
   ],
   "source": [
    "2*(inp + 1)"
   ]
  },
  {
   "cell_type": "markdown",
   "id": "da8e5c5a-22b0-45dc-8876-142e05741dc3",
   "metadata": {},
   "source": [
    "## Case"
   ]
  },
  {
   "cell_type": "markdown",
   "id": "953d6a78-5294-4594-b7c3-75f7b1f2e0da",
   "metadata": {},
   "source": [
    "$$ \\text{BCE} = −(y \\log (p) + (1−y) \\log (1−p))$$"
   ]
  },
  {
   "cell_type": "code",
   "execution_count": 514,
   "id": "5a8ed146-9e48-420a-966c-5e58a37f86d2",
   "metadata": {},
   "outputs": [],
   "source": [
    "torch.manual_seed(42)\n",
    "x = torch.rand((1, 5)) # input tensor\n",
    "y = torch.zeros((1, 1))  # expected output\n",
    "\n",
    "w = torch.randn(5, 1, requires_grad=True)\n",
    "b = torch.randn(1, requires_grad=True)\n",
    "z = torch.matmul(x, w) + b\n",
    "p = torch.nn.Sigmoid()(z)\n",
    "\n",
    "loss = torch.nn.functional.binary_cross_entropy(p, y)\n",
    "loss.backward()"
   ]
  },
  {
   "cell_type": "code",
   "execution_count": 515,
   "id": "1e2e99cb-daaf-48a6-b682-2a16451fb257",
   "metadata": {},
   "outputs": [
    {
     "data": {
      "text/plain": [
       "tensor(0.7104, grad_fn=<BinaryCrossEntropyBackward0>)"
      ]
     },
     "execution_count": 515,
     "metadata": {},
     "output_type": "execute_result"
    }
   ],
   "source": [
    "loss"
   ]
  },
  {
   "cell_type": "code",
   "execution_count": 516,
   "id": "7d402656-e728-4f40-ace7-ef484d07c5d3",
   "metadata": {},
   "outputs": [
    {
     "data": {
      "text/plain": [
       "tensor(0.7104, grad_fn=<NegBackward0>)"
      ]
     },
     "execution_count": 516,
     "metadata": {},
     "output_type": "execute_result"
    }
   ],
   "source": [
    "-(y*p.log()+(1-y)*(1-p).log()).mean()"
   ]
  },
  {
   "cell_type": "code",
   "execution_count": 517,
   "id": "c8e2cab4-53f8-4e01-b8cd-b0e7198c956e",
   "metadata": {},
   "outputs": [
    {
     "data": {
      "text/plain": [
       "tensor([[0.4487],\n",
       "        [0.4653],\n",
       "        [0.1947],\n",
       "        [0.4878],\n",
       "        [0.1986]])"
      ]
     },
     "execution_count": 517,
     "metadata": {},
     "output_type": "execute_result"
    }
   ],
   "source": [
    "w.grad"
   ]
  },
  {
   "cell_type": "code",
   "execution_count": 518,
   "id": "6cfe8d34-cc1a-4712-a32f-ec1e2d035238",
   "metadata": {},
   "outputs": [
    {
     "data": {
      "text/plain": [
       "tensor([0.5085])"
      ]
     },
     "execution_count": 518,
     "metadata": {},
     "output_type": "execute_result"
    }
   ],
   "source": [
    "b.grad"
   ]
  },
  {
   "cell_type": "markdown",
   "id": "3a501cf6-5b45-4080-9678-784a6a3dfd53",
   "metadata": {},
   "source": [
    "$$\n",
    "\\frac{\\partial \\text{loss}}{\\partial p} = -\\frac{y}{p} + \\frac{1-y}{1-p}\n",
    "$$"
   ]
  },
  {
   "cell_type": "markdown",
   "id": "7762b222-3866-4b54-9f8d-bef437532aad",
   "metadata": {},
   "source": [
    "$$\\frac{\\partial p}{\\partial z} = p \\cdot (1-p)$$"
   ]
  },
  {
   "cell_type": "markdown",
   "id": "176ed8d6-55d5-4482-9019-ce9e002c1784",
   "metadata": {},
   "source": [
    "$$\\frac{\\partial z}{\\partial w} = x^T$$"
   ]
  },
  {
   "cell_type": "code",
   "execution_count": 521,
   "id": "7056eec1-a5dd-4f01-93ba-024bce6d5e8a",
   "metadata": {},
   "outputs": [
    {
     "data": {
      "text/plain": [
       "tensor([[0.4487],\n",
       "        [0.4653],\n",
       "        [0.1947],\n",
       "        [0.4878],\n",
       "        [0.1986]], grad_fn=<MmBackward0>)"
      ]
     },
     "execution_count": 521,
     "metadata": {},
     "output_type": "execute_result"
    }
   ],
   "source": [
    "gl = -(y / p - (1 - y) / (1 - p))\n",
    "gp = p * (1 - p)\n",
    "gz = gl * gp\n",
    "gw = x.t()\n",
    "\n",
    "dw = torch.matmul(gw, gz)\n",
    "dw"
   ]
  },
  {
   "cell_type": "code",
   "execution_count": 520,
   "id": "ac38e13e-ac19-4051-8b73-895e4c3a04bf",
   "metadata": {},
   "outputs": [
    {
     "data": {
      "text/plain": [
       "tensor([0.5085], grad_fn=<SumBackward1>)"
      ]
     },
     "execution_count": 520,
     "metadata": {},
     "output_type": "execute_result"
    }
   ],
   "source": [
    "db = torch.sum(gz, dim=0)\n",
    "db"
   ]
  },
  {
   "cell_type": "markdown",
   "id": "7610581e-2f58-48e1-b7b1-85a8b374c817",
   "metadata": {},
   "source": [
    "参考资料：\n",
    "\n",
    "[Automatic Differentiation with torch.autograd — PyTorch Tutorials 2.1.1+cu121 documentation](https://pytorch.org/tutorials/beginner/basics/autogradqs_tutorial.html)"
   ]
  },
  {
   "cell_type": "code",
   "execution_count": null,
   "id": "f091149a-a687-4e76-9b6e-7c6927ee646a",
   "metadata": {},
   "outputs": [],
   "source": []
  }
 ],
 "metadata": {
  "kernelspec": {
   "display_name": "Python 3 (ipykernel)",
   "language": "python",
   "name": "python3"
  },
  "language_info": {
   "codemirror_mode": {
    "name": "ipython",
    "version": 3
   },
   "file_extension": ".py",
   "mimetype": "text/x-python",
   "name": "python",
   "nbconvert_exporter": "python",
   "pygments_lexer": "ipython3",
   "version": "3.10.18"
  }
 },
 "nbformat": 4,
 "nbformat_minor": 5
}
