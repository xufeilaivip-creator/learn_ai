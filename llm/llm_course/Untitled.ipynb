{
 "cells": [
  {
   "cell_type": "code",
   "execution_count": 2,
   "id": "a7ce2ef5-b102-4f5f-833d-49bbda52e9c2",
   "metadata": {
    "execution": {
     "iopub.execute_input": "2023-11-06T10:30:04.215412Z",
     "iopub.status.busy": "2023-11-06T10:30:04.214999Z",
     "iopub.status.idle": "2023-11-06T10:30:04.235806Z",
     "shell.execute_reply": "2023-11-06T10:30:04.235032Z",
     "shell.execute_reply.started": "2023-11-06T10:30:04.215375Z"
    },
    "tags": []
   },
   "outputs": [
    {
     "name": "stdout",
     "output_type": "stream",
     "text": [
      "Open from: https://jackey-06ivq196i0ap.gear-c1.openbayes.net/\n"
     ]
    }
   ],
   "source": [
    "try:\n",
    "    import requests\n",
    "    meta = requests.get(\"http://localhost:21999/gear-status\", timeout=5).json()\n",
    "    url = meta[\"links\"].get(\"auxiliary\")\n",
    "    if url:\n",
    "        print(f\"Open from: {url}\")\n",
    "except Exception as e:\n",
    "    pass"
   ]
  },
  {
   "cell_type": "code",
   "execution_count": null,
   "id": "8055976d-e3b4-493e-9187-0fe10163b6b4",
   "metadata": {},
   "outputs": [],
   "source": []
  }
 ],
 "metadata": {
  "kernelspec": {
   "display_name": "Python 3 (ipykernel)",
   "language": "python",
   "name": "python3"
  },
  "language_info": {
   "codemirror_mode": {
    "name": "ipython",
    "version": 3
   },
   "file_extension": ".py",
   "mimetype": "text/x-python",
   "name": "python",
   "nbconvert_exporter": "python",
   "pygments_lexer": "ipython3",
   "version": "3.8.13"
  }
 },
 "nbformat": 4,
 "nbformat_minor": 5
}
