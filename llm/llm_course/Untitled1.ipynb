{
 "cells": [
  {
   "cell_type": "code",
   "execution_count": 1,
   "id": "10a9de17-fd59-441e-87aa-bf8578496a3c",
   "metadata": {
    "execution": {
     "iopub.execute_input": "2023-11-07T05:27:50.317044Z",
     "iopub.status.busy": "2023-11-07T05:27:50.316616Z",
     "iopub.status.idle": "2023-11-07T05:27:52.796100Z",
     "shell.execute_reply": "2023-11-07T05:27:52.795465Z",
     "shell.execute_reply.started": "2023-11-07T05:27:50.317006Z"
    }
   },
   "outputs": [
    {
     "name": "stderr",
     "output_type": "stream",
     "text": [
      "/output/open-mmlab/lib/python3.9/site-packages/tqdm/auto.py:21: TqdmWarning: IProgress not found. Please update jupyter and ipywidgets. See https://ipywidgets.readthedocs.io/en/stable/user_install.html\n",
      "  from .autonotebook import tqdm as notebook_tqdm\n",
      "/output/open-mmlab/lib/python3.9/site-packages/trl/trainer/ppo_config.py:141: UserWarning: The `optimize_cuda_cache` arguement will be deprecated soon, please use `optimize_device_cache` instead.\n",
      "  warnings.warn(\n"
     ]
    }
   ],
   "source": [
    "from transformers import AutoTokenizer, AutoModelForCausalLM, pipeline, BitsAndBytesConfig\n",
    "import torch\n",
    "from datasets import load_dataset\n",
    "\n",
    "import re\n",
    "import trl\n",
    "from trl import SFTTrainer\n",
    "\n",
    "from peft import LoraConfig"
   ]
  },
  {
   "cell_type": "code",
   "execution_count": null,
   "id": "79e267b9-002e-467e-b58c-49153c71a821",
   "metadata": {},
   "outputs": [],
   "source": []
  }
 ],
 "metadata": {
  "kernelspec": {
   "display_name": "open-mmlab",
   "language": "python",
   "name": "open-mmlab"
  },
  "language_info": {
   "codemirror_mode": {
    "name": "ipython",
    "version": 3
   },
   "file_extension": ".py",
   "mimetype": "text/x-python",
   "name": "python",
   "nbconvert_exporter": "python",
   "pygments_lexer": "ipython3",
   "version": "3.9.18"
  }
 },
 "nbformat": 4,
 "nbformat_minor": 5
}
