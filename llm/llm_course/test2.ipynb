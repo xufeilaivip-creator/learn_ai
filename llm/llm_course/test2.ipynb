{
 "cells": [
  {
   "cell_type": "code",
   "execution_count": 1,
   "id": "603909d2-20a5-448a-9a9d-ab0d9631f63f",
   "metadata": {
    "execution": {
     "iopub.execute_input": "2023-11-07T05:36:06.711965Z",
     "iopub.status.busy": "2023-11-07T05:36:06.711554Z",
     "iopub.status.idle": "2023-11-07T05:36:08.905183Z",
     "shell.execute_reply": "2023-11-07T05:36:08.904403Z",
     "shell.execute_reply.started": "2023-11-07T05:36:06.711928Z"
    }
   },
   "outputs": [
    {
     "name": "stderr",
     "output_type": "stream",
     "text": [
      "/output/open-mmlab/lib/python3.9/site-packages/tqdm/auto.py:21: TqdmWarning: IProgress not found. Please update jupyter and ipywidgets. See https://ipywidgets.readthedocs.io/en/stable/user_install.html\n",
      "  from .autonotebook import tqdm as notebook_tqdm\n",
      "/output/open-mmlab/lib/python3.9/site-packages/trl/trainer/ppo_config.py:141: UserWarning: The `optimize_cuda_cache` arguement will be deprecated soon, please use `optimize_device_cache` instead.\n",
      "  warnings.warn(\n"
     ]
    }
   ],
   "source": [
    "from transformers import AutoTokenizer, AutoModelForCausalLM, pipeline, BitsAndBytesConfig\n",
    "import torch\n",
    "from datasets import load_dataset\n",
    "\n",
    "import re\n",
    "import trl\n",
    "from trl import SFTTrainer\n",
    "\n",
    "from peft import LoraConfig"
   ]
  },
  {
   "cell_type": "code",
   "execution_count": 1,
   "id": "214d6ae0-b8ea-40c5-815d-629fb12b11c7",
   "metadata": {
    "execution": {
     "iopub.execute_input": "2023-11-07T05:38:44.897303Z",
     "iopub.status.busy": "2023-11-07T05:38:44.896851Z",
     "iopub.status.idle": "2023-11-07T05:38:45.791773Z",
     "shell.execute_reply": "2023-11-07T05:38:45.790926Z",
     "shell.execute_reply.started": "2023-11-07T05:38:44.897255Z"
    }
   },
   "outputs": [
    {
     "name": "stderr",
     "output_type": "stream",
     "text": [
      "/output/open-mmlab/lib/python3.9/site-packages/tqdm/auto.py:21: TqdmWarning: IProgress not found. Please update jupyter and ipywidgets. See https://ipywidgets.readthedocs.io/en/stable/user_install.html\n",
      "  from .autonotebook import tqdm as notebook_tqdm\n"
     ]
    }
   ],
   "source": [
    "from transformers import AutoModel"
   ]
  },
  {
   "cell_type": "code",
   "execution_count": null,
   "id": "8b7a79e5-f05e-47da-acf3-f6a5d86d3c57",
   "metadata": {
    "execution": {
     "iopub.execute_input": "2023-11-07T05:40:36.339837Z",
     "iopub.status.busy": "2023-11-07T05:40:36.339568Z"
    },
    "tags": []
   },
   "outputs": [],
   "source": [
    "# AutoModel.from_pretrained('\n",
    "model = AutoModel.from_pretrained(\"./FlagAlpha--Llama2-Chinese-7b-Chat\")"
   ]
  },
  {
   "cell_type": "code",
   "execution_count": null,
   "id": "729fe259-954e-401b-83fb-4e8943f7beb4",
   "metadata": {
    "execution": {
     "iopub.execute_input": "2023-11-07T05:36:56.772284Z",
     "iopub.status.busy": "2023-11-07T05:36:56.772030Z"
    }
   },
   "outputs": [],
   "source": [
    "lora_config = LoraConfig(\n",
    "    r=8,\n",
    "    lora_alpha=8,\n",
    "    lora_dropout=0.1,\n",
    "    task_type=\"CAUSAL_LM\",\n",
    ")\n",
    " \n",
    "model = AutoModelForCausalLM.from_pretrained(\n",
    "    \"./FlagAlpha--Llama2-Chinese-7b-Chat\",\n",
    "    torch_dtype=torch.float16,\n",
    "    load_in_8bit=False,\n",
    "    device_map=\"auto\",\n",
    ")\n",
    "model.add_adapter(lora_config)\n"
   ]
  },
  {
   "cell_type": "code",
   "execution_count": null,
   "id": "13d43863-5172-4d1e-83b6-b7fb8569e33e",
   "metadata": {},
   "outputs": [],
   "source": []
  }
 ],
 "metadata": {
  "kernelspec": {
   "display_name": "open-mmlab",
   "language": "python",
   "name": "open-mmlab"
  },
  "language_info": {
   "codemirror_mode": {
    "name": "ipython",
    "version": 3
   },
   "file_extension": ".py",
   "mimetype": "text/x-python",
   "name": "python",
   "nbconvert_exporter": "python",
   "pygments_lexer": "ipython3",
   "version": "3.9.18"
  }
 },
 "nbformat": 4,
 "nbformat_minor": 5
}
